{
  "nbformat": 4,
  "nbformat_minor": 0,
  "metadata": {
    "colab": {
      "provenance": [],
      "name": "projeto legal.ipynb",
      "authorship_tag": "ABX9TyOFmYg9Dd0zEsC8lZUbQrDz",
      "include_colab_link": true
    },
    "kernelspec": {
      "name": "python3",
      "display_name": "Python 3"
    },
    "language_info": {
      "name": "python"
    }
  },
  "cells": [
    {
      "cell_type": "markdown",
      "metadata": {
        "id": "view-in-github",
        "colab_type": "text"
      },
      "source": [
        "<a href=\"https://colab.research.google.com/github/130908Ma/Pyhon/blob/main/projeto_legal.ipynb\" target=\"_parent\"><img src=\"https://colab.research.google.com/assets/colab-badge.svg\" alt=\"Open In Colab\"/></a>"
      ]
    },
    {
      "cell_type": "markdown",
      "source": [
        "**Aula** 1"
      ],
      "metadata": {
        "id": "T3zWmhztyvHK"
      }
    },
    {
      "cell_type": "markdown",
      "source": [
        "#Aula 1 🐸 🪕 **🤠**"
      ],
      "metadata": {
        "id": "TyPPUj180J2y"
      }
    },
    {
      "cell_type": "code",
      "source": [
        "print(\"I competição de programação dá Start\")\n",
        "ano = \"IX\"\n",
        "print(ano, \"competição de programação da Start\")\n",
        "print(f\"{ano} competição de programação da Start\")"
      ],
      "metadata": {
        "id": "HIzxN8FIz4zr",
        "colab": {
          "base_uri": "https://localhost:8080/"
        },
        "outputId": "dbe6da81-63db-49db-a2e0-041177114f10"
      },
      "execution_count": null,
      "outputs": [
        {
          "output_type": "stream",
          "name": "stdout",
          "text": [
            "I competição de programação dá Start\n",
            "IX competição de programação da Start\n",
            "IX competição de programação da Start\n"
          ]
        }
      ]
    },
    {
      "cell_type": "markdown",
      "source": [],
      "metadata": {
        "id": "qwNcobjJz7Jx"
      }
    },
    {
      "cell_type": "markdown",
      "source": [
        "Aula 2"
      ],
      "metadata": {
        "id": "3ltN6uVF08t2"
      }
    },
    {
      "cell_type": "code",
      "source": [
        "livro_ficcao = 8\n",
        "livro_n_ficcao = 10\n",
        "livro_infantil = 6\n",
        "pontos_rodrigo = livro_ficcao + livro_n_ficcao + livro_infantil\n",
        "print(f\"Os pontos totais de Rodrigo são {pontos_rodrigo}\")"
      ],
      "metadata": {
        "id": "4VsCkevO1WzS",
        "colab": {
          "base_uri": "https://localhost:8080/"
        },
        "outputId": "47b80d3e-37ff-4a21-879d-8378e0a581da"
      },
      "execution_count": null,
      "outputs": [
        {
          "output_type": "stream",
          "name": "stdout",
          "text": [
            "Os pontos totais de Rodrigo são 24\n"
          ]
        }
      ]
    },
    {
      "cell_type": "markdown",
      "source": [
        "# **Aula 3** 🪕 🐸 🤠"
      ],
      "metadata": {
        "id": "MjnSsCcEwGmx"
      }
    },
    {
      "cell_type": "code",
      "source": [
        "numero_de_alunos = int(input(\"Digite a quantidade de alunos: \"))\n",
        "numero_de_monitores = int(input(\"Digite a quantidade de monitores: \"))\n",
        "numero_de_professores = 8\n",
        "if numero_de_alunos + numero_de_monitores + numero_de_professores <= 50:\n",
        "  resposta_positiva = \"pode ir\"\n",
        "resposta_negativa = \"não pode ir\"\n",
        "if numero_de_alunos + numero_de_monitores + numero_de_professores <= 50:\n",
        "  print(resposta_positiva)\n",
        "else:\n",
        "  print(resposta_negativa)"
      ],
      "metadata": {
        "id": "jdNiPVmy2Yo7"
      },
      "execution_count": null,
      "outputs": []
    },
    {
      "cell_type": "markdown",
      "source": [
        "Aula 4"
      ],
      "metadata": {
        "id": "M_82rwc02cta"
      }
    },
    {
      "cell_type": "code",
      "source": [
        "P = int(input(\"Digite a posição da porta P (0 ou 1): \"))\n",
        "R = int(input(\"Digite a posição da porta R (0 ou 1): \"))\n",
        "if P == 0:\n",
        "    print(\"C\")\n",
        "elif R == 1:\n",
        "    print(\"A\")\n",
        "else:\n",
        "    print(\"B\")"
      ],
      "metadata": {
        "id": "mfoAfS3W3iio"
      },
      "execution_count": null,
      "outputs": []
    },
    {
      "cell_type": "markdown",
      "source": [
        "Aula 5 ⤴ ⚡ 🪲   tabuada"
      ],
      "metadata": {
        "id": "ZoEo4CLf61y-"
      }
    },
    {
      "cell_type": "code",
      "source": [
        "def tabuada(numero):\n",
        "    for contador in range(1, 11):  # Gera números de 1 a 10\n",
        "        print(f\"{numero} x {contador} = {numero * contador}\")\n",
        "numero = int(input(\"Digite um número para ver sua tabuada: \"))\n",
        "tabuada(numero)\n",
        "peso = float(input(\"Digite seu peso (em kg): \"))\n",
        "imc = peso / (altura ** 2)\n",
        "print(f\"\\nSeu IMC é: {imc:.2f}\")\n",
        "if imc < 18.5:\n",
        "    print(\"Você está abaixo do peso.\")\n",
        "elif 18.5 <= imc < 25:\n",
        "    print(\"Você está no peso ideal.\")\n",
        "elif 25 <= imc < 30:\n",
        "    print(\"Você está com sobrepeso.\")\n",
        "else:\n",
        "    print(\"Você está acima do peso.\")\n",
        "altura = float(input(\"Digite sua altura (em metros): \"))"
      ],
      "metadata": {
        "id": "vk2gjoIu7kex",
        "outputId": "bb14dba4-263b-49cb-f2a4-0b18b87266e0",
        "colab": {
          "base_uri": "https://localhost:8080/"
        }
      },
      "execution_count": null,
      "outputs": [
        {
          "output_type": "stream",
          "name": "stdout",
          "text": [
            "Digite um número para ver sua tabuada: 22\n",
            "22 x 1 = 22\n",
            "22 x 2 = 44\n",
            "22 x 3 = 66\n",
            "22 x 4 = 88\n",
            "22 x 5 = 110\n",
            "22 x 6 = 132\n",
            "22 x 7 = 154\n",
            "22 x 8 = 176\n",
            "22 x 9 = 198\n",
            "22 x 10 = 220\n"
          ]
        }
      ]
    },
    {
      "cell_type": "markdown",
      "source": [
        "Aula 6"
      ],
      "metadata": {
        "id": "xREpmSSgABsI"
      }
    },
    {
      "cell_type": "code",
      "source": [
        "peso = float(input(\"Digite seu peso (em kg): \"))\n",
        "altura = float(input(\"Digite sua altura (em metros): \"))\n",
        "imc = peso / (altura ** 2)\n",
        "print(f\"\\nSeu IMC é: {imc:.2f}\")\n",
        "if imc < 18.5:\n",
        "    print(\"Você está abaixo do peso.\")\n",
        "elif 18.5 <= imc < 25:\n",
        "    print(\"Você está no peso ideal.\")\n",
        "elif 25 <= imc < 30:\n",
        "    print(\"Você está com sobrepeso.\")\n",
        "else:\n",
        "    print(\"Você está acima do peso.\")"
      ],
      "metadata": {
        "id": "Qp3gnhHRBDgJ"
      },
      "execution_count": null,
      "outputs": []
    },
    {
      "cell_type": "code",
      "source": [
        "Aula 7"
      ],
      "metadata": {
        "id": "7clxzPZxARUO"
      },
      "execution_count": null,
      "outputs": []
    },
    {
      "cell_type": "code",
      "source": [
        "print (\"sou seu assistente virtual, como posso ajudar? \\n \")\n",
        "nome = input(\"Digite seu nome: \")\n",
        "print(f\"Olá, {nome}. Qual é a sua dúvida hoje?\")\n",
        "resposta = input(\"Qual o assunto que deseja tratar: matematica, python, javascript \").lower()\n",
        "if resposta == \"python\" :\n",
        " print(f\"Que bom, {nome}, vamos falar sobre python\")\n",
        "elif resposta == \"javascript\" :\n",
        " print(f\"Que bom, {nome}, vamos falar sobre javascript\")\n",
        "else:\n",
        " print(f\"Que bom, {nome}, vamos falar sobre Matemática\")"
      ],
      "metadata": {
        "id": "zq_a0oZEA9-B"
      },
      "execution_count": null,
      "outputs": []
    }
  ]
}